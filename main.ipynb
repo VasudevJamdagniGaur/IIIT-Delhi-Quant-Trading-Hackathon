{
  "cells": [
    {
      "cell_type": "markdown",
      "metadata": {},
      "source": [
        "# Hackathon Trading Strategy Development\n",
        "\n",
        "This notebook provides a complete environment for developing, testing, and evaluating trading strategies for the hackathon.\n",
        "\n",
        "## Environment Setup\n",
        "- **Allowed Libraries**: numpy, pandas, scikit-learn, statsmodels, matplotlib, torch, tensorflow\n",
        "- **No Internet**: All network calls are prohibited\n",
        "- **Data Format**: Minute-level OHLCV data with datetime index\n",
        "- **Signal Format**: \"BUY\", \"SELL\", \"HOLD\" (uppercase only)\n",
        "\n",
        "## Strategy Files\n",
        "- `strategy_teamname_baseline.py`: SMA crossover rule-based strategy\n",
        "- `strategy_teamname_ml.py`: Machine learning strategy using RandomForest\n",
        "\n",
        "## Usage\n",
        "1. Place your `train.csv` file in the `data/` folder\n",
        "2. Run the cells below to load data, train strategies, and evaluate performance\n",
        "3. Export results for submission\n"
      ]
    }
  ],
  "metadata": {
    "language_info": {
      "name": "python"
    }
  },
  "nbformat": 4,
  "nbformat_minor": 2
}
